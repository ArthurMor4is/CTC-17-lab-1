{
 "cells": [
  {
   "cell_type": "markdown",
   "metadata": {},
   "source": [
    "#### 2.2 Descrição da solução do seguinte problema:\n",
    "O jogo é composto de um tabuleiro (7x7). Algumas casas são pretas, algumas\n",
    "das casas pretas tem números. O objetivo é ‘iluminar’ todas células brancas, colocando lâmpadas nelas. Cada lâmpada ilumina sua casa, mas a linha e\n",
    "coluna onde está posicionada, a menos que uma casa preta bloqueie o\n",
    "caminho. Para solucionar o jogo, você deve satisfazer as seguintes condições: \n",
    "* Todas as casas não pretas, estão iluminadas\n",
    "* Nenhuma lâmpada é iluminada por outra lâmpada\n",
    "* Todas as casas numeradas tem exatamente o número indicado de lâmpadas adjacentes (as casas acima, abaixo, à esquerda e à direita) \n",
    "* Casas pretas não-numeradas podem ter qualquer número de lâmpadas adjacentes"
   ]
  },
  {
   "cell_type": "markdown",
   "metadata": {},
   "source": [
    "#### Modelagem:\n",
    "\n",
    "Consi"
   ]
  },
  {
   "cell_type": "code",
   "execution_count": 1,
   "metadata": {},
   "outputs": [],
   "source": [
    "import matplotlib.pyplot as plt\n",
    "import numpy as np\n",
    "from matplotlib import colors\n",
    "import re\n",
    "import random"
   ]
  },
  {
   "cell_type": "code",
   "execution_count": 2,
   "metadata": {},
   "outputs": [],
   "source": [
    "#change file name\n",
    "path = \"puzzle.sav\"\n",
    "# -2: espaco vazio, -1: parede, 0 a 4: n de lampadas que podem iluminar, 5: lampada, 6: blocos iluminados \n",
    "def load_puzzle(path):\n",
    "    file = open(path, \"r\")\n",
    "    desc = []\n",
    "    numered_block = {}\n",
    "    for line in file:\n",
    "        text = line.strip().split(\":\")\n",
    "        if text[0].strip() == \"DESC\":\n",
    "            desc = re.findall('.', text[2].strip())\n",
    "    grid = np.zeros((7, 7), dtype=int)\n",
    "    i = 0\n",
    "    run = 0\n",
    "    for x in range(7):\n",
    "        for y in range(7):\n",
    "            c = '\\0'\n",
    "\n",
    "            if run == 0:\n",
    "                c = desc[i]\n",
    "                i = i + 1\n",
    "                if c >= 'a' and c <= 'z':\n",
    "                    run = ord(c) - ord('a') + 1\n",
    "\n",
    "            if run > 0:\n",
    "                c = 'S'\n",
    "                run = run - 1\n",
    "\n",
    "            if c == '0' or c == '1' or c == '2' or c == '3' or c == '4':\n",
    "                grid[x, y] = ord(c) - ord('0')\n",
    "                numered_block[(x, y)] = grid[x, y]\n",
    "            elif c == 'B':\n",
    "                grid[x, y] = -1\n",
    "            elif c == 'S':\n",
    "                grid[x, y] = -2\n",
    "    return grid, numered_block\n",
    "\n",
    "\n",
    "            \n",
    "\n"
   ]
  },
  {
   "cell_type": "code",
   "execution_count": 3,
   "metadata": {},
   "outputs": [],
   "source": [
    "def is_valid_position(grid_map, num_block, i, j):\n",
    "    if (i < 0 or i > 6 or j < 0 or j > 6):\n",
    "        return False\n",
    "    \n",
    "    row = grid_map[:, j]\n",
    "    col = grid_map[i, :]\n",
    "    valid = True\n",
    "    if grid_map[i, j] in range(-1, 6):\n",
    "        return False\n",
    "    \n",
    "    p1 = num_block.get((i+1, j))\n",
    "    p2 = num_block.get((i-1, j))\n",
    "    p3 = num_block.get((i, j+1))\n",
    "    p4 = num_block.get((i, j-1))\n",
    "    if (p1 is not None) and (p1 == 0):\n",
    "        return False\n",
    "    if (p2 is not None) and (p2 == 0):\n",
    "        return False\n",
    "    if (p3 is not None) and (p3 == 0):\n",
    "        return False\n",
    "    if (p4 is not None) and (p4 == 0):\n",
    "        return False\n",
    "    \n",
    "    for r in range(i+1, 7):\n",
    "        if row[r] == 5:\n",
    "            valid = False\n",
    "        elif row[r] in range(-1, 5):\n",
    "            break\n",
    "    for r in range(i-1, -1, -1):\n",
    "        if row[r] == 5:\n",
    "            valid = False\n",
    "        elif row[r] in range(-1, 5):\n",
    "            break\n",
    "    for c in range(j+1, 7):\n",
    "        if col[c] == 5:\n",
    "            valid = False\n",
    "        elif col[c] in range(-1, 5):\n",
    "            break\n",
    "    for c in range(j-1, -1, -1):\n",
    "        if col[c] == 5:\n",
    "            valid = False\n",
    "        elif col[c] in range(-1, 5):\n",
    "            break\n",
    "    return valid\n",
    "    \n",
    "def calc_light_cells(grid_sol):\n",
    "    grids = np.array(grid_sol)\n",
    "    for i in range(7):\n",
    "        for j in range(7):\n",
    "            v = grids[i, j]\n",
    "            if v == 5:\n",
    "                for r in range(i, 7):\n",
    "                    if grids[r, j] == -2:\n",
    "                        grids[r, j] = 6\n",
    "                    elif grids[r, j] in range(-1, 5):\n",
    "                        break\n",
    "                for r in range(i, -1, -1):\n",
    "                    if grids[r, j] == -2:\n",
    "                        grids[r, j] = 6\n",
    "                    elif grids[r, j] in range(-1, 5):\n",
    "                        break\n",
    "                for c in range(j, 7):\n",
    "                    if grids[i, c] == -2:\n",
    "                        grids[i, c] = 6\n",
    "                    elif grids[i, c] in range(-1, 5):\n",
    "                        break\n",
    "                for c in range(j, -1, -1):\n",
    "                    if grids[i, c] == -2:\n",
    "                        grids[i, c] = 6\n",
    "                    elif grids[i, c] in range(-1, 5):\n",
    "                        break\n",
    "    return grids\n",
    "# -2: espaco vazio, -1: parede, 0 a 4: n de lampadas que podem iluminar, 5: lampada, 6: blocos iluminados                    \n",
    "def print_map(data, is_solution):\n",
    "    fig, ax = plt.subplots()\n",
    "    cmap = colors.ListedColormap(['white'] * 7)\n",
    "   \n",
    "            \n",
    "    ax.matshow(data, cmap = cmap)\n",
    "    for (i, j), z in np.ndenumerate(data):\n",
    "        c = 'black'\n",
    "        bg = 'white'\n",
    "        if z in range(-1, 5):\n",
    "            bg = 'black'\n",
    "        elif z == 5 or z == 6:\n",
    "            bg = 'yellow'\n",
    "        if z > -1:\n",
    "            c = 'white'\n",
    "        if z == 5:\n",
    "            c = 'black'\n",
    "        if z == 5:\n",
    "            ax.text(j, i, 'O', color = c,ha='center', va='center', backgroundcolor = bg)\n",
    "        elif z != -2:\n",
    "            ax.text(j, i, z, color = c,ha='center', va='center', backgroundcolor = bg)\n",
    "        else:\n",
    "            ax.text(j, i, ' ', color = c,ha='center', va='center', backgroundcolor = bg)\n",
    "        \n",
    "    plt.gca().set_xticks([x - 0.5 for x in plt.gca().get_xticks()][1:], minor='true')\n",
    "    plt.gca().set_yticks([y - 0.5 for y in plt.gca().get_yticks()][1:], minor='true')\n",
    "    #ax.invert_yaxis()\n",
    "    plt.grid(which='minor')\n",
    "    plt.show()\n",
    "    \n",
    "def put_position(gr, nb, i, j):\n",
    "    if is_valid_position(gr,nb, i, j) == True:\n",
    "        gr[i, j] = 5\n",
    "        # Atualiza numero de luzes que faltam iluminar os blocos\n",
    "        p1 = nb.get((i+1, j))\n",
    "        p2 = nb.get((i-1, j))\n",
    "        p3 = nb.get((i, j+1))\n",
    "        p4 = nb.get((i, j-1))\n",
    "        if p1 is not None:\n",
    "            nb[(i+1, j)] = p1 - 1\n",
    "        if p2 is not None:\n",
    "            nb[(i-1, j)] = p2 - 1\n",
    "        if p3 is not None:\n",
    "            nb[(i, j+1)] = p3 - 1\n",
    "        if p4 is not None:\n",
    "            nb[(i, j-1)] = p4 - 1\n",
    "\n",
    "def generate_random_state(grid_map, num_block, num_lights):\n",
    "    nb = num_block.copy()\n",
    "    gr = np.array(grid_map)\n",
    "    xs = random.sample(range(7), 7)\n",
    "    ys = random.sample(range(7), 7)\n",
    "    lights = num_lights - 7\n",
    "    if False:\n",
    "        while lights > 7:\n",
    "            xs = xs + random.sample(range(7), 7)\n",
    "            ys = xs + random.sample(range(7), 7)\n",
    "            lights = lights - 7\n",
    "\n",
    "        if lights > 0:\n",
    "            xs = xs + random.sample(range(7), lights)\n",
    "            ys = ys + random.sample(range(7), lights)\n",
    "    \n",
    "    #xs = list(range(7)) * (num_lights // 7)\n",
    "    #ys = list(range(7)) * (num_lights // 7)\n",
    "    #random.shuffle(xs)\n",
    "    #random.shuffle(ys)\n",
    "        \n",
    "  \n",
    "    for i in range(7):\n",
    "        for j in range(7):\n",
    "            put_position(gr, nb, i, j)\n",
    "    return gr, nb\n",
    "    \n",
    "def calc_num_spaces(grid_map):\n",
    "    spaces = (grid_map == -2).sum()\n",
    "    return spaces\n",
    "\n",
    "def calc_num_yellow(grid_map):\n",
    "    lighted = (grid_map == 6).sum()\n",
    "    lighted = lighted + (grid_map == 5).sum()\n",
    "    return lighted\n",
    "\n",
    "def calc_value(grid_map, num_blocks):\n",
    "    num_spaces = calc_num_spaces(grid_map)\n",
    "    num_blocks_no_light = sum(list(num_blocks.values()))\n",
    "    return num_spaces + num_blocks_no_light\n",
    "\n",
    "def calc_value2(grid_map, num_blocks):\n",
    "    num_yellows = calc_num_yellow(grid_map)\n",
    "    num_blocks_no_light = sum(list(num_blocks.values()))\n",
    "    return num_yellows - 10 * num_blocks_no_light\n",
    "    \n",
    "def calc_next_state(grid_map, num_block, num_lights):\n",
    "    nb = num_block.copy()\n",
    "    gr = np.array(grid_map)\n",
    "    nb_item_list = np.array(list(nb.values()))\n",
    "    idxs = np.argsort(nb_item_list)[::-1]\n",
    "    ks = list(nb.keys())\n",
    "    nbb = nb.copy()\n",
    "    for idx in idxs:\n",
    "        v = ks[idx]\n",
    "        pos = []\n",
    "        pos.append((v[0]+1, v[1]))\n",
    "        pos.append((v[0]-1, v[1]))\n",
    "        pos.append((v[0], v[1]+1))\n",
    "        pos.append((v[0], v[1]-1))\n",
    "        random.shuffle(pos)\n",
    "        for p in range(4):\n",
    "            put_position(gr, nb, pos[p][0], pos[p][1])\n",
    "    xs = random.choices(list(range(7)), k = num_lights)\n",
    "    ys = random.choices(list(range(7)), k = num_lights)\n",
    "    for i in xs:\n",
    "        for j in ys:\n",
    "            put_position(gr, nb, i, j)\n",
    "    \n",
    "    \n",
    "    for i in range(7):\n",
    "        for j in range(7):\n",
    "            put_position(gr, nb, i, j)\n",
    "    \n",
    "                        \n",
    "    return gr, nb\n",
    "            \n",
    "    \n",
    "\n",
    "def hill_climbing(grid_map, num_blocks, num_iter, num_lights):\n",
    "    found_max = False\n",
    "    current, nb = calc_next_state(grid_map, num_blocks, num_lights)\n",
    "    cur = calc_light_cells(current)\n",
    "    values = []\n",
    "    cur_value = calc_value2(cur, nb)\n",
    "    for i in range(num_iter):\n",
    "        next_state, nb_next = calc_next_state(grid_map, num_blocks, num_lights)\n",
    "        ns = calc_light_cells(next_state)\n",
    "        ns_value = calc_value2(ns, nb_next)\n",
    "        if ns_value > cur_value:\n",
    "            current = np.array(next_state)\n",
    "            nb = nb_next.copy()\n",
    "            cur = np.array(ns)\n",
    "            cur_value = ns_value\n",
    "            if (sum(list(nb.values())) == 0 and (cur == -2).sum() == 0):\n",
    "                break\n",
    "            \n",
    "            \n",
    "        values.append(cur_value)\n",
    "        \n",
    "        if found_max:\n",
    "            curr = calc_light_cells(cur)\n",
    "            return curr, nb, values\n",
    "            \n",
    "        \n",
    "    curr = calc_light_cells(cur)\n",
    "    return curr, nb, values\n"
   ]
  },
  {
   "cell_type": "code",
   "execution_count": 5,
   "metadata": {},
   "outputs": [
    {
     "name": "stdout",
     "output_type": "stream",
     "text": [
      "[[-2 -2 -2 -2 -2 -2 -2]\n",
      " [-2 -2  0 -2  2 -2 -2]\n",
      " [-2 -1 -2 -2 -2 -1 -2]\n",
      " [-2 -2 -2 -2 -2 -2 -2]\n",
      " [-2 -1 -2 -2 -2  3 -2]\n",
      " [-2 -2 -1 -2  4 -2 -2]\n",
      " [-2 -2 -2 -2 -2 -2 -2]]\n",
      "{(1, 2): 0, (1, 4): 2, (4, 5): 3, (5, 4): 4}\n"
     ]
    },
    {
     "data": {
      "image/png": "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\n",
      "text/plain": [
       "<Figure size 432x288 with 1 Axes>"
      ]
     },
     "metadata": {
      "needs_background": "light"
     },
     "output_type": "display_data"
    },
    {
     "name": "stdout",
     "output_type": "stream",
     "text": [
      "[[ 6  6  6  6  5  6  6]\n",
      " [ 5  6  0  6  2  5  6]\n",
      " [ 6 -1 -2  6  6 -1  5]\n",
      " [ 6  6  6  6  6  5  6]\n",
      " [ 6 -1  6  6  5  3  6]\n",
      " [ 6  5 -1  5  4  5  6]\n",
      " [ 6  6  6  6  5  6  6]]\n"
     ]
    },
    {
     "data": {
      "image/png": "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\n",
      "text/plain": [
       "<Figure size 432x288 with 1 Axes>"
      ]
     },
     "metadata": {
      "needs_background": "light"
     },
     "output_type": "display_data"
    },
    {
     "name": "stdout",
     "output_type": "stream",
     "text": [
      "{(1, 2): 0, (1, 4): 0, (4, 5): 0, (5, 4): 0}\n",
      "Num iterations:  12\n",
      "Max Values:  41\n"
     ]
    },
    {
     "data": {
      "image/png": "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\n",
      "text/plain": [
       "<Figure size 432x288 with 1 Axes>"
      ]
     },
     "metadata": {
      "needs_background": "light"
     },
     "output_type": "display_data"
>>>>>>> f4e7b4e... Stop on correct result
    }
   ],
   "source": [
    "# Puzzle nivel easy\n",
    "path = 'puzzle.sav'\n",
    "# -2: espaco vazio, -1: parede, 0 a 4: n de lampadas que podem iluminar, 5: lampada, 6: blocos iluminados  \n",
    "grid, num_blocks = load_puzzle(path)\n",
    "print(grid)\n",
    "print(num_blocks)\n",
    "print_map(grid, False)\n",
    "gr_sol, nb_sol, values = hill_climbing(grid, num_blocks, 1000, 20)\n",
    "print(gr_sol)\n",
    "print_map(gr_sol, True)\n",
    "print(nb_sol)\n",
    "print(\"Num iterations: \", len(values))\n",
    "print(\"Max Values: \", calc_value2(gr_sol, nb_sol))\n",
    "if len(values) > 0:\n",
    "    plt.plot(values)\n",
    "    plt.show()"
   ]
  },
  {
   "cell_type": "code",
   "execution_count": 6,
   "metadata": {},
   "outputs": [
    {
     "name": "stdout",
     "output_type": "stream",
     "text": [
      "[[-2 -2 -2 -2 -2 -2 -2]\n",
      " [-2 -2 -2  2  0 -2 -2]\n",
      " [-2 -1 -2 -2 -2 -2 -2]\n",
      " [-2  1 -2 -2 -2 -1 -2]\n",
      " [-2 -2 -2 -2 -2  1 -2]\n",
      " [-2 -2  3 -1 -2 -2 -2]\n",
      " [-2 -2 -2 -2 -2 -2 -2]]\n",
      "{(1, 3): 2, (1, 4): 0, (3, 1): 1, (4, 5): 1, (5, 2): 3}\n"
     ]
    },
    {
     "data": {
      "image/png": "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\n",
      "text/plain": [
       "<Figure size 432x288 with 1 Axes>"
      ]
     },
     "metadata": {
      "needs_background": "light"
     },
     "output_type": "display_data"
    },
    {
     "name": "stdout",
     "output_type": "stream",
     "text": [
      "[[ 6  6  6  5  6  6  6]\n",
      " [ 6  5  6  2  0  6  5]\n",
      " [ 6 -1  6  5  6  6  6]\n",
      " [ 5  1  6  6  5 -1  6]\n",
      " [ 6  6  5  6  6  1  6]\n",
      " [ 6  5  3 -1  6  5  6]\n",
      " [ 6  6  5  6  6  6  6]]\n"
     ]
    },
    {
     "data": {
      "image/png": "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\n",
      "text/plain": [
       "<Figure size 432x288 with 1 Axes>"
      ]
     },
     "metadata": {
      "needs_background": "light"
     },
     "output_type": "display_data"
    },
    {
     "name": "stdout",
     "output_type": "stream",
     "text": [
      "{(1, 3): 0, (1, 4): 0, (3, 1): 0, (4, 5): 0, (5, 2): 0}\n",
      "Num iterations:  4\n",
      "Max Values:  41\n"
     ]
    },
    {
     "data": {
      "image/png": "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\n",
      "text/plain": [
       "<Figure size 432x288 with 1 Axes>"
      ]
     },
     "metadata": {
      "needs_background": "light"
     },
     "output_type": "display_data"
    }
   ],
   "source": [
    "# Puzzle nivel easy\n",
    "path = 'puzzle2.sav'\n",
    "grid, num_blocks = load_puzzle(path)\n",
    "print(grid)\n",
    "print(num_blocks)\n",
    "print_map(grid, False)\n",
    "gr_sol, nb_sol, values = hill_climbing(grid, num_blocks, 1000, 20)\n",
    "print(gr_sol)\n",
    "print_map(gr_sol, True)\n",
    "print(nb_sol)\n",
    "print(\"Num iterations: \", len(values))\n",
    "print(\"Max Values: \", calc_value2(gr_sol, nb_sol))\n",
    "if len(values) > 0:\n",
    "    plt.plot(values)\n",
    "    plt.show()"
   ]
  },
  {
   "cell_type": "code",
   "execution_count": 7,
   "metadata": {},
   "outputs": [
    {
     "name": "stdout",
     "output_type": "stream",
     "text": [
      "[[-2 -2 -2 -2 -2 -2 -2]\n",
      " [-2 -2 -2  2  0 -2 -2]\n",
      " [-2 -1 -2 -2 -2 -2 -2]\n",
      " [-2  1 -2 -2 -2 -1 -2]\n",
      " [-2 -2 -2 -2 -2  1 -2]\n",
      " [-2 -2  3 -1 -2 -2 -2]\n",
      " [-2 -2 -2 -2 -2 -2 -2]]\n"
     ]
    },
    {
     "data": {
      "image/png": "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\n",
      "text/plain": [
       "<Figure size 432x288 with 1 Axes>"
      ]
     },
     "metadata": {
      "needs_background": "light"
     },
     "output_type": "display_data"
    },
    {
     "name": "stdout",
     "output_type": "stream",
     "text": [
      "[[ 6  6  6  5  6  6  6]\n",
      " [ 6  5  6  2  0  6  5]\n",
      " [ 6 -1  6  5  6  6  6]\n",
      " [ 5  1  6  6  5 -1  6]\n",
      " [ 6  6  5  6  6  1  6]\n",
      " [ 6  5  3 -1  6  5  6]\n",
      " [ 6  6  5  6  6  6  6]]\n"
     ]
    },
    {
     "data": {
      "image/png": "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\n",
      "text/plain": [
       "<Figure size 432x288 with 1 Axes>"
      ]
     },
     "metadata": {
      "needs_background": "light"
     },
     "output_type": "display_data"
    },
    {
     "name": "stdout",
     "output_type": "stream",
     "text": [
      "{(1, 3): 0, (1, 4): 0, (3, 1): 0, (4, 5): 0, (5, 2): 0}\n",
      "Num iterations:  1\n",
      "Max Values:  41\n"
     ]
    },
    {
     "data": {
      "image/png": "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\n",
      "text/plain": [
       "<Figure size 432x288 with 1 Axes>"
      ]
     },
     "metadata": {
      "needs_background": "light"
     },
     "output_type": "display_data"
    }
   ],
   "source": [
    "# Puzzle nivel tricky\n",
    "grid, num_blocks = load_puzzle(path)\n",
    "print(grid)\n",
    "print_map(grid, False)\n",
    "gr_sol, nb_sol, values = hill_climbing(grid, num_blocks, 1000, 20)\n",
    "print(gr_sol)\n",
    "print_map(gr_sol, True)\n",
    "print(nb_sol)\n",
    "print(\"Num iterations: \", len(values))\n",
    "print(\"Max Values: \", calc_value2(gr_sol, nb_sol))\n",
    "if len(values) > 0:\n",
    "    plt.plot(values)\n",
    "    plt.show()"
   ]
  },
  {
   "cell_type": "code",
   "execution_count": 8,
   "metadata": {},
   "outputs": [
    {
     "name": "stdout",
     "output_type": "stream",
     "text": [
      "[[-1 -2 -2 -1 -2 -2 -1]\n",
      " [-2  2 -2 -2 -2 -1 -2]\n",
      " [-2 -2 -2 -2 -2 -2 -2]\n",
      " [-1 -2 -2  3 -2 -2  0]\n",
      " [-2 -2 -2 -2 -2 -2 -2]\n",
      " [-2  2 -2 -2 -2 -1 -2]\n",
      " [ 2 -2 -2  0 -2 -2 -1]]\n"
     ]
    },
    {
     "data": {
      "image/png": "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\n",
      "text/plain": [
       "<Figure size 432x288 with 1 Axes>"
      ]
     },
     "metadata": {
      "needs_background": "light"
     },
     "output_type": "display_data"
    },
    {
     "name": "stdout",
     "output_type": "stream",
     "text": [
      "[[-1  5  6 -1  6  5 -1]\n",
      " [ 5  2  6  5  6 -1  5]\n",
      " [ 6  6  6  6  6  5  6]\n",
      " [-1  6  5  3  5  6  0]\n",
      " [ 6  6  6  5  6  6  6]\n",
      " [ 5  2  6  6  6 -1  5]\n",
      " [ 2  5  6  0  6  5 -1]]\n"
     ]
    },
    {
     "data": {
      "image/png": "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\n",
      "text/plain": [
       "<Figure size 432x288 with 1 Axes>"
      ]
     },
     "metadata": {
      "needs_background": "light"
     },
     "output_type": "display_data"
    },
    {
     "name": "stdout",
     "output_type": "stream",
     "text": [
      "{(1, 1): 0, (3, 3): 0, (3, 6): 0, (5, 1): 0, (6, 0): 0, (6, 3): 0}\n",
      "Num iterations:  31\n",
      "Max Values:  36\n"
     ]
    },
    {
     "data": {
      "image/png": "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\n",
      "text/plain": [
       "<Figure size 432x288 with 1 Axes>"
      ]
     },
     "metadata": {
      "needs_background": "light"
     },
     "output_type": "display_data"
    }
   ],
   "source": [
    "# Puzzle nivel hard\n",
    "path = 'puzzle4.sav'\n",
    "grid, num_blocks = load_puzzle(path)\n",
    "print(grid)\n",
    "print_map(grid, False)\n",
    "gr_sol, nb_sol, values = hill_climbing(grid, num_blocks, 1000, 20)\n",
    "print(gr_sol)\n",
    "print_map(gr_sol, True)\n",
    "print(nb_sol)\n",
    "print(\"Num iterations: \", len(values))\n",
    "print(\"Max Values: \", calc_value2(gr_sol, nb_sol))\n",
    "if len(values) > 0:\n",
    "    plt.plot(values)\n",
    "    plt.show()"
   ]
  },
  {
   "cell_type": "code",
   "execution_count": null,
   "metadata": {},
   "outputs": [],
   "source": []
  }
 ],
 "metadata": {
  "kernelspec": {
   "display_name": "Python 3",
   "language": "python",
   "name": "python3"
  },
  "language_info": {
   "codemirror_mode": {
    "name": "ipython",
    "version": 3
   },
   "file_extension": ".py",
   "mimetype": "text/x-python",
   "name": "python",
   "nbconvert_exporter": "python",
   "pygments_lexer": "ipython3",
   "version": "3.8.5"
  }
 },
 "nbformat": 4,
 "nbformat_minor": 4
}
