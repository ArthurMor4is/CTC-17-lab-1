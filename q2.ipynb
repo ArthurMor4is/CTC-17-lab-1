{
 "cells": [
  {
   "cell_type": "code",
   "execution_count": 3,
   "metadata": {},
   "outputs": [],
   "source": [
    "import matplotlib.pyplot as plt\n",
    "import numpy as np\n",
    "from matplotlib import colors\n",
    "import re\n",
    "import random"
   ]
  },
  {
   "cell_type": "code",
   "execution_count": 45,
   "metadata": {},
   "outputs": [],
   "source": [
    "#change file name\n",
    "path = \"puzzle.sav\"\n",
    "# -2: espaco vazio, -1: parede, 0 a 4: n de lampadas que podem iluminar, 5: lampada, 6: blocos iluminados \n",
    "def load_puzzle(path):\n",
    "    file = open(path, \"r\")\n",
    "    desc = []\n",
    "    numered_block = {}\n",
    "    for line in file:\n",
    "        text = line.strip().split(\":\")\n",
    "        if text[0].strip() == \"DESC\":\n",
    "            desc = re.findall('.', text[2].strip())\n",
    "    grid = np.zeros((7, 7), dtype=int)\n",
    "    i = 0\n",
    "    run = 0\n",
    "    for x in range(7):\n",
    "        for y in range(7):\n",
    "            c = '\\0'\n",
    "\n",
    "            if run == 0:\n",
    "                c = desc[i]\n",
    "                i = i + 1\n",
    "                if c >= 'a' and c <= 'z':\n",
    "                    run = ord(c) - ord('a') + 1\n",
    "\n",
    "            if run > 0:\n",
    "                c = 'S'\n",
    "                run = run - 1\n",
    "\n",
    "            if c == '0' or c == '1' or c == '2' or c == '3' or c == '4':\n",
    "                grid[x, y] = ord(c) - ord('0')\n",
    "                numered_block[(x, y)] = grid[x, y]\n",
    "            elif c == 'B':\n",
    "                grid[x, y] = -1\n",
    "            elif c == 'S':\n",
    "                grid[x, y] = -2\n",
    "    return grid, numered_block\n",
    "\n",
    "\n",
    "            \n",
    "\n"
   ]
  },
  {
   "cell_type": "code",
   "execution_count": 119,
   "metadata": {},
   "outputs": [],
   "source": [
    "def is_valid_position(grid_map, num_block, i, j):\n",
    "    if (i < 0 or i > 6 or j < 0 or j > 6):\n",
    "        return False\n",
    "    \n",
    "    row = grid_map[:, j]\n",
    "    col = grid_map[i, :]\n",
    "    valid = True\n",
    "    if grid_map[i, j] in range(-1, 6):\n",
    "        return False\n",
    "    \n",
    "    p1 = num_block.get((i+1, j))\n",
    "    p2 = num_block.get((i-1, j))\n",
    "    p3 = num_block.get((i, j+1))\n",
    "    p4 = num_block.get((i, j-1))\n",
    "    if (p1 is not None) and (p1 == 0):\n",
    "        return False\n",
    "    if (p2 is not None) and (p2 == 0):\n",
    "        return False\n",
    "    if (p3 is not None) and (p3 == 0):\n",
    "        return False\n",
    "    if (p4 is not None) and (p4 == 0):\n",
    "        return False\n",
    "    \n",
    "    for r in range(i+1, 7):\n",
    "        if row[r] == 5:\n",
    "            valid = False\n",
    "        elif row[r] in range(-1, 5):\n",
    "            break\n",
    "    for r in range(i-1, -1, -1):\n",
    "        if row[r] == 5:\n",
    "            valid = False\n",
    "        elif row[r] in range(-1, 5):\n",
    "            break\n",
    "    for c in range(j+1, 7):\n",
    "        if col[c] == 5:\n",
    "            valid = False\n",
    "        elif col[c] in range(-1, 5):\n",
    "            break\n",
    "    for c in range(j-1, -1, -1):\n",
    "        if col[c] == 5:\n",
    "            valid = False\n",
    "        elif col[c] in range(-1, 5):\n",
    "            break\n",
    "    return valid\n",
    "    \n",
    "def calc_light_cells(grid_sol):\n",
    "    grids = np.array(grid_sol)\n",
    "    for i in range(7):\n",
    "        for j in range(7):\n",
    "            v = grids[i, j]\n",
    "            if v == 5:\n",
    "                for r in range(i, 7):\n",
    "                    if grids[r, j] == -2:\n",
    "                        grids[r, j] = 6\n",
    "                    elif grids[r, j] in range(-1, 5):\n",
    "                        break\n",
    "                for r in range(i, -1, -1):\n",
    "                    if grids[r, j] == -2:\n",
    "                        grids[r, j] = 6\n",
    "                    elif grids[r, j] in range(-1, 5):\n",
    "                        break\n",
    "                for c in range(j, 7):\n",
    "                    if grids[i, c] == -2:\n",
    "                        grids[i, c] = 6\n",
    "                    elif grids[i, c] in range(-1, 5):\n",
    "                        break\n",
    "                for c in range(j, -1, -1):\n",
    "                    if grids[i, c] == -2:\n",
    "                        grids[i, c] = 6\n",
    "                    elif grids[i, c] in range(-1, 5):\n",
    "                        break\n",
    "    return grids\n",
    "# -2: espaco vazio, -1: parede, 0 a 4: n de lampadas que podem iluminar, 5: lampada, 6: blocos iluminados                    \n",
    "def print_map(data, is_solution):\n",
    "    fig, ax = plt.subplots()\n",
    "    cmap = colors.ListedColormap(['white'] * 7)\n",
    "   \n",
    "            \n",
    "    ax.matshow(data, cmap = cmap)\n",
    "    for (i, j), z in np.ndenumerate(data):\n",
    "        c = 'black'\n",
    "        bg = 'white'\n",
    "        if z in range(-1, 5):\n",
    "            bg = 'black'\n",
    "        elif z == 5 or z == 6:\n",
    "            bg = 'yellow'\n",
    "        if z > -1:\n",
    "            c = 'white'\n",
    "        if z == 5:\n",
    "            c = 'black'\n",
    "        if z == 5:\n",
    "            ax.text(j, i, 'O', color = c,ha='center', va='center', backgroundcolor = bg)\n",
    "        elif z != -2:\n",
    "            ax.text(j, i, z, color = c,ha='center', va='center', backgroundcolor = bg)\n",
    "        else:\n",
    "            ax.text(j, i, ' ', color = c,ha='center', va='center', backgroundcolor = bg)\n",
    "        \n",
    "    plt.gca().set_xticks([x - 0.5 for x in plt.gca().get_xticks()][1:], minor='true')\n",
    "    plt.gca().set_yticks([y - 0.5 for y in plt.gca().get_yticks()][1:], minor='true')\n",
    "    #ax.invert_yaxis()\n",
    "    plt.grid(which='minor')\n",
    "    plt.show()\n",
    "    \n",
    "def put_position(gr, nb, i, j):\n",
    "    if is_valid_position(gr,nb, i, j) == True:\n",
    "        gr[i, j] = 5\n",
    "        # Atualiza numero de luzes que faltam iluminar os blocos\n",
    "        p1 = nb.get((i+1, j))\n",
    "        p2 = nb.get((i-1, j))\n",
    "        p3 = nb.get((i, j+1))\n",
    "        p4 = nb.get((i, j-1))\n",
    "        if p1 is not None:\n",
    "            nb[(i+1, j)] = p1 - 1\n",
    "        if p2 is not None:\n",
    "            nb[(i-1, j)] = p2 - 1\n",
    "        if p3 is not None:\n",
    "            nb[(i, j+1)] = p3 - 1\n",
    "        if p4 is not None:\n",
    "            nb[(i, j-1)] = p4 - 1\n",
    "\n",
    "def generate_random_state(grid_map, num_block, num_lights):\n",
    "    nb = num_block.copy()\n",
    "    gr = np.array(grid_map)\n",
    "    xs = random.sample(range(7), 7)\n",
    "    ys = random.sample(range(7), 7)\n",
    "    lights = num_lights - 7\n",
    "    if False:\n",
    "        while lights > 7:\n",
    "            xs = xs + random.sample(range(7), 7)\n",
    "            ys = xs + random.sample(range(7), 7)\n",
    "            lights = lights - 7\n",
    "\n",
    "        if lights > 0:\n",
    "            xs = xs + random.sample(range(7), lights)\n",
    "            ys = ys + random.sample(range(7), lights)\n",
    "    \n",
    "    #xs = list(range(7)) * (num_lights // 7)\n",
    "    #ys = list(range(7)) * (num_lights // 7)\n",
    "    #random.shuffle(xs)\n",
    "    #random.shuffle(ys)\n",
    "        \n",
    "  \n",
    "    for i in range(7):\n",
    "        for j in range(7):\n",
    "            put_position(gr, nb, i, j)\n",
    "    return gr, nb\n",
    "    \n",
    "def calc_num_spaces(grid_map):\n",
    "    spaces = (grid_map == -2).sum()\n",
    "    return spaces\n",
    "\n",
    "def calc_num_yellow(grid_map):\n",
    "    lighted = (grid_map == 6).sum()\n",
    "    lighted = lighted + (grid_map == 5).sum()\n",
    "    return lighted\n",
    "\n",
    "def calc_value(grid_map, num_blocks):\n",
    "    num_spaces = calc_num_spaces(grid_map)\n",
    "    num_blocks_no_light = sum(list(num_blocks.values()))\n",
    "    return num_spaces + num_blocks_no_light\n",
    "\n",
    "def calc_value2(grid_map, num_blocs):\n",
    "    num_yellows = calc_num_yellow(grid_map)\n",
    "    num_blocks_no_light = sum(list(num_blocks.values()))\n",
    "    return num_yellows - 10 * num_blocks_no_light\n",
    "    \n",
    "def calc_next_state(grid_map, num_block, num_lights):\n",
    "    nb = num_block.copy()\n",
    "    gr = np.array(grid_map)\n",
    "    nb_item_list = np.array(list(nb.values()))\n",
    "    idxs = np.argsort(nb_item_list)[::-1]\n",
    "    ks = list(nb.keys())\n",
    "    nbb = nb.copy()\n",
    "    for idx in idxs:\n",
    "        v = ks[idx]\n",
    "        pos = []\n",
    "        pos.append((v[0]+1, v[1]))\n",
    "        pos.append((v[0]-1, v[1]))\n",
    "        pos.append((v[0], v[1]+1))\n",
    "        pos.append((v[0], v[1]-1))\n",
    "        random.shuffle(pos)\n",
    "        for p in range(4):\n",
    "            put_position(gr, nb, pos[p][0], pos[p][1])\n",
    "    xs = random.choices(list(range(7)), k = num_lights)\n",
    "    ys = random.choices(list(range(7)), k = num_lights)\n",
    "    for i in xs:\n",
    "        for j in ys:\n",
    "            put_position(gr, nb, i, j)\n",
    "    \n",
    "    \n",
    "    for i in range(7):\n",
    "        for j in range(7):\n",
    "            put_position(gr, nb, i, j)\n",
    "    \n",
    "                        \n",
    "    return gr, nb\n",
    "            \n",
    "    \n",
    "\n",
    "def hill_climbing(grid_map, num_blocks, num_iter, num_lights):\n",
    "    current, nb = calc_next_state(grid_map, num_blocks, num_lights)\n",
    "    cur = calc_light_cells(current)\n",
    "    values = []\n",
    "    cur_value = calc_value2(cur, nb)\n",
    "    for i in range(num_iter):\n",
    "        next_state, nb_next = calc_next_state(grid_map, num_blocks, num_lights)\n",
    "        ns = calc_light_cells(next_state)\n",
    "        ns_value = calc_value2(ns, nb_next)\n",
    "        if ns_value > cur_value:\n",
    "            current = np.array(next_state)\n",
    "            nb = nb_next.copy()\n",
    "            cur = np.array(ns)\n",
    "            cur_value = ns_value\n",
    "        values.append(cur_value)\n",
    "        \n",
    "    curr = calc_light_cells(cur)\n",
    "    return curr, nb, values\n"
   ]
  },
  {
   "cell_type": "code",
   "execution_count": 127,
   "metadata": {},
   "outputs": [
    {
     "name": "stdout",
     "output_type": "stream",
     "text": [
      "[[-2 -2 -2 -2 -2 -2 -2]\n",
      " [-2 -2  0 -2  2 -2 -2]\n",
      " [-2 -1 -2 -2 -2 -1 -2]\n",
      " [-2 -2 -2 -2 -2 -2 -2]\n",
      " [-2 -1 -2 -2 -2  3 -2]\n",
      " [-2 -2 -1 -2  4 -2 -2]\n",
      " [-2 -2 -2 -2 -2 -2 -2]]\n",
      "{(1, 2): 0, (1, 4): 2, (4, 5): 3, (5, 4): 4}\n"
     ]
    },
    {
     "data": {
      "image/png": "[encoded data removed]",
      "text/plain": [
       "<Figure size 432x288 with 1 Axes>"
      ]
     },
     "metadata": {
      "needs_background": "light"
     },
     "output_type": "display_data"
    },
    {
     "name": "stdout",
     "output_type": "stream",
     "text": [
      "[[ 6  6  6  6  5  6  6]\n",
      " [ 5  6  0  6  2  5  6]\n",
      " [ 6 -1  6  6  6 -1  6]\n",
      " [ 6  6  5  6  6  6  6]\n",
      " [ 6 -1  6  6  5  3  5]\n",
      " [ 6  5 -1  5  4  5  6]\n",
      " [ 6  6  6  6  5  6  6]]\n"
     ]
    },
    {
     "data": {
      "image/png": "[encoded data removed]",
      "text/plain": [
       "<Figure size 432x288 with 1 Axes>"
      ]
     },
     "metadata": {
      "needs_background": "light"
     },
     "output_type": "display_data"
    },
    {
     "name": "stdout",
     "output_type": "stream",
     "text": [
      "{(1, 2): 0, (1, 4): 0, (4, 5): 0, (5, 4): 0}\n",
      "-49\n"
     ]
    },
    {
     "data": {
      "image/png": "[encoded data removed]",
      "text/plain": [
       "<Figure size 432x288 with 1 Axes>"
      ]
     },
     "metadata": {
      "needs_background": "light"
     },
     "output_type": "display_data"
    }
   ],
   "source": [
    "# Puzzle nivel easy\n",
    "path = 'puzzle.sav'\n",
    "# -2: espaco vazio, -1: parede, 0 a 4: n de lampadas que podem iluminar, 5: lampada, 6: blocos iluminados  \n",
    "grid, num_blocks = load_puzzle(path)\n",
    "print(grid)\n",
    "print(num_blocks)\n",
    "print_map(grid, False)\n",
    "gr_sol, nb_sol, values = hill_climbing(grid, num_blocks, 1000, 20)\n",
    "print(gr_sol)\n",
    "print_map(gr_sol, True)\n",
    "print(nb_sol)\n",
    "print(calc_value2(gr_sol, nb_sol))\n",
    "plt.plot(values)\n",
    "plt.show()"
   ]
  },
  {
   "cell_type": "code",
   "execution_count": 126,
   "metadata": {},
   "outputs": [
    {
     "name": "stdout",
     "output_type": "stream",
     "text": [
      "[[-2 -2 -2 -2 -2 -2 -2]\n",
      " [-2 -2 -2  2  0 -2 -2]\n",
      " [-2 -1 -2 -2 -2 -2 -2]\n",
      " [-2  1 -2 -2 -2 -1 -2]\n",
      " [-2 -2 -2 -2 -2  1 -2]\n",
      " [-2 -2  3 -1 -2 -2 -2]\n",
      " [-2 -2 -2 -2 -2 -2 -2]]\n",
      "{(1, 3): 2, (1, 4): 0, (3, 1): 1, (4, 5): 1, (5, 2): 3}\n"
     ]
    },
    {
     "data": {
      "image/png": "[encoded data removed]",
      "text/plain": [
       "<Figure size 432x288 with 1 Axes>"
      ]
     },
     "metadata": {
      "needs_background": "light"
     },
     "output_type": "display_data"
    },
    {
     "name": "stdout",
     "output_type": "stream",
     "text": [
      "[[ 6  6  6  5  6  6  6]\n",
      " [ 6  5  6  2  0  6  5]\n",
      " [ 6 -1  6  5  6  6  6]\n",
      " [ 5  1  6  6  5 -1  6]\n",
      " [ 6  6  5  6  6  1  6]\n",
      " [ 6  5  3 -1  6  5  6]\n",
      " [ 6  6  5  6  6  6  6]]\n"
     ]
    },
    {
     "data": {
      "image/png": "[encoded data removed]",
      "text/plain": [
       "<Figure size 432x288 with 1 Axes>"
      ]
     },
     "metadata": {
      "needs_background": "light"
     },
     "output_type": "display_data"
    },
    {
     "name": "stdout",
     "output_type": "stream",
     "text": [
      "{(1, 3): 0, (1, 4): 0, (3, 1): 0, (4, 5): 0, (5, 2): 0}\n",
      "-29\n"
     ]
    },
    {
     "data": {
      "image/png": "[encoded data removed]",
      "text/plain": [
       "<Figure size 432x288 with 1 Axes>"
      ]
     },
     "metadata": {
      "needs_background": "light"
     },
     "output_type": "display_data"
    }
   ],
   "source": [
    "# Puzzle nivel easy\n",
    "path = 'puzzle2.sav'\n",
    "grid, num_blocks = load_puzzle(path)\n",
    "print(grid)\n",
    "print(num_blocks)\n",
    "print_map(grid, False)\n",
    "gr_sol, nb_sol, values = hill_climbing(grid, num_blocks, 1000, 20)\n",
    "print(gr_sol)\n",
    "print_map(gr_sol, True)\n",
    "print(nb_sol)\n",
    "print(calc_value2(gr_sol, nb_sol))\n",
    "plt.plot(values)\n",
    "plt.show()"
   ]
  },
  {
   "cell_type": "code",
   "execution_count": 125,
   "metadata": {},
   "outputs": [
    {
     "name": "stdout",
     "output_type": "stream",
     "text": [
      "[[-2 -2 -2 -2 -2 -2 -2]\n",
      " [-2  0 -2 -2  1  1 -2]\n",
      " [-2 -1 -2 -1 -2 -2 -2]\n",
      " [-2 -2  4 -2  1 -2 -2]\n",
      " [-2 -2 -2 -1 -2  1 -2]\n",
      " [-2  1 -1 -2 -2 -1 -2]\n",
      " [-2 -2 -2 -2 -2 -2 -2]]\n"
     ]
    },
    {
     "data": {
      "image/png": "[encoded data removed]",
      "text/plain": [
       "<Figure size 432x288 with 1 Axes>"
      ]
     },
     "metadata": {
      "needs_background": "light"
     },
     "output_type": "display_data"
    },
    {
     "name": "stdout",
     "output_type": "stream",
     "text": [
      "[[ 5  6  6  6  6  6  6]\n",
      " [ 6  0  6  5  1  1  6]\n",
      " [ 6 -1  5 -1  6  5  6]\n",
      " [ 6  5  4  5  1  6  6]\n",
      " [ 6  6  5 -1  6  1  5]\n",
      " [ 6  1 -1  6  5 -1  6]\n",
      " [ 6  5  6  6  6  6  6]]\n"
     ]
    },
    {
     "data": {
      "image/png": "[encoded data removed]",
      "text/plain": [
       "<Figure size 432x288 with 1 Axes>"
      ]
     },
     "metadata": {
      "needs_background": "light"
     },
     "output_type": "display_data"
    },
    {
     "name": "stdout",
     "output_type": "stream",
     "text": [
      "{(1, 1): 0, (1, 4): 0, (1, 5): 0, (3, 2): 0, (3, 4): 0, (4, 5): 0, (5, 1): 0}\n",
      "-53\n"
     ]
    },
    {
     "data": {
      "image/png": "[encoded data removed]",
      "text/plain": [
       "<Figure size 432x288 with 1 Axes>"
      ]
     },
     "metadata": {
      "needs_background": "light"
     },
     "output_type": "display_data"
    }
   ],
   "source": [
    "# Puzzle nivel tricky\n",
    "grid, num_blocks = load_puzzle(path)\n",
    "print(grid)\n",
    "print_map(grid, False)\n",
    "gr_sol, nb_sol, values = hill_climbing(grid, num_blocks, 1000, 20)\n",
    "print(gr_sol)\n",
    "print_map(gr_sol, True)\n",
    "print(nb_sol)\n",
    "print(calc_value2(gr_sol, nb_sol))\n",
    "plt.plot(values)\n",
    "plt.show()"
   ]
  },
  {
   "cell_type": "code",
   "execution_count": 123,
   "metadata": {},
   "outputs": [
    {
     "name": "stdout",
     "output_type": "stream",
     "text": [
      "[[-1 -2 -2 -1 -2 -2 -1]\n",
      " [-2  2 -2 -2 -2 -1 -2]\n",
      " [-2 -2 -2 -2 -2 -2 -2]\n",
      " [-1 -2 -2  3 -2 -2  0]\n",
      " [-2 -2 -2 -2 -2 -2 -2]\n",
      " [-2  2 -2 -2 -2 -1 -2]\n",
      " [ 2 -2 -2  0 -2 -2 -1]]\n"
     ]
    },
    {
     "data": {
      "image/png": "[encoded data removed]",
      "text/plain": [
       "<Figure size 432x288 with 1 Axes>"
      ]
     },
     "metadata": {
      "needs_background": "light"
     },
     "output_type": "display_data"
    },
    {
     "name": "stdout",
     "output_type": "stream",
     "text": [
      "[[-1  5  6 -1  6  5 -1]\n",
      " [ 5  2  6  5  6 -1  5]\n",
      " [ 6  6  6  6  6  5  6]\n",
      " [-1  6  5  3  5  6  0]\n",
      " [ 6  6  6  5  6  6  6]\n",
      " [ 5  2  6  6  6 -1  5]\n",
      " [ 2  5  6  0  6  5 -1]]\n"
     ]
    },
    {
     "data": {
      "image/png": "[encoded data removed]",
      "text/plain": [
       "<Figure size 432x288 with 1 Axes>"
      ]
     },
     "metadata": {
      "needs_background": "light"
     },
     "output_type": "display_data"
    },
    {
     "name": "stdout",
     "output_type": "stream",
     "text": [
      "{(1, 1): 0, (3, 3): 0, (3, 6): 0, (5, 1): 0, (6, 0): 0, (6, 3): 0}\n",
      "-54\n"
     ]
    },
    {
     "data": {
      "image/png": "[encoded data removed]",
      "text/plain": [
       "<Figure size 432x288 with 1 Axes>"
      ]
     },
     "metadata": {
      "needs_background": "light"
     },
     "output_type": "display_data"
    }
   ],
   "source": [
    "# Puzzle nivel hard\n",
    "path = 'puzzle4.sav'\n",
    "grid, num_blocks = load_puzzle(path)\n",
    "print(grid)\n",
    "print_map(grid, False)\n",
    "gr_sol, nb_sol, values = hill_climbing(grid, num_blocks, 1000, 20)\n",
    "print(gr_sol)\n",
    "print_map(gr_sol, True)\n",
    "print(nb_sol)\n",
    "print(calc_value2(gr_sol, nb_sol))\n",
    "plt.plot(values)\n",
    "plt.show()"
   ]
  }
 ],
 "metadata": {
  "kernelspec": {
   "display_name": "Python 3",
   "language": "python",
   "name": "python3"
  },
  "language_info": {
   "codemirror_mode": {
    "name": "ipython",
    "version": 3
   },
   "file_extension": ".py",
   "mimetype": "text/x-python",
   "name": "python",
   "nbconvert_exporter": "python",
   "pygments_lexer": "ipython3",
   "version": "3.8.5"
  }
 },
 "nbformat": 4,
 "nbformat_minor": 4
}
