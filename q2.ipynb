{
 "cells": [
  {
   "cell_type": "code",
   "execution_count": 1,
   "metadata": {},
   "outputs": [],
   "source": [
    "import matplotlib.pyplot as plt\n",
    "import numpy as np\n",
    "from matplotlib import colors\n",
    "import re"
   ]
  },
  {
   "cell_type": "code",
   "execution_count": 28,
   "metadata": {},
   "outputs": [
    {
     "name": "stdout",
     "output_type": "stream",
     "text": [
      "SAVEFILE:41:Simon Tatham's Portable Puzzle Collection\n",
      "\n",
      "VERSION :1:1\n",
      "\n",
      "GAME    :8:Light Up\n",
      "\n",
      "PARAMS  :10:7x7b20s4d0\n",
      "\n",
      "CPARAMS :10:7x7b20s4d0\n",
      "\n",
      "SEED    :15:304364861695276\n",
      "\n",
      "DESC    :17:i0a2cBcBiBc3cBa4i\n",
      "\n",
      "NSTATES :1:1\n",
      "\n",
      "STATEPOS:1:1\n",
      "\n",
      "['i', '0', 'a', '2', 'c', 'B', 'c', 'B', 'i', 'B', 'c', '3', 'c', 'B', 'a', '4', 'i']\n",
      "[[-2 -2 -2 -2 -2 -2 -2]\n",
      " [-2 -2  0 -2  2 -2 -2]\n",
      " [-2 -1 -2 -2 -2 -1 -2]\n",
      " [-2 -2 -2 -2 -2 -2 -2]\n",
      " [-2 -1 -2 -2 -2  3 -2]\n",
      " [-2 -2 -1 -2  4 -2 -2]\n",
      " [-2 -2 -2 -2 -2 -2 -2]]\n",
      "{(1, 2): 0, (1, 4): 2, (4, 5): 3, (5, 4): 4}\n"
     ]
    }
   ],
   "source": [
    "#change file name\n",
    "path = \"puzzle.sav\"\n",
    "def load_puzzle(path):\n",
    "    file = open(path, \"r\")\n",
    "    desc = []\n",
    "    numered_block = {}\n",
    "    for line in file:\n",
    "        print(line)\n",
    "        text = line.strip().split(\":\")\n",
    "        if text[0].strip() == \"DESC\":\n",
    "            desc = re.findall('.', text[2].strip())\n",
    "    print(desc)\n",
    "    grid = np.zeros((7, 7), dtype=int)\n",
    "    i = 0\n",
    "    run = 0\n",
    "    for x in range(7):\n",
    "        for y in range(7):\n",
    "            c = '\\0'\n",
    "\n",
    "            if run == 0:\n",
    "                c = desc[i]\n",
    "                i = i + 1\n",
    "                if c >= 'a' and c <= 'z':\n",
    "                    run = ord(c) - ord('a') + 1\n",
    "\n",
    "            if run > 0:\n",
    "                c = 'S'\n",
    "                run = run - 1\n",
    "\n",
    "            if c == '0' or c == '1' or c == '2' or c == '3' or c == '4':\n",
    "                grid[x, y] = ord(c) - ord('0')\n",
    "                numered_block[(x, y)] = grid[x, y]\n",
    "            elif c == 'B':\n",
    "                grid[x, y] = -1\n",
    "            elif c == 'S':\n",
    "                grid[x, y] = -2\n",
    "    return grid, numered_block\n",
    "\n",
    "\n",
    "            \n",
    "# -2: espaco vazio, -1: parede, 0 a 4: n de lampadas que podem iluminar, 5: lampada, 6: blocos iluminados  \n",
    "grid, num_blocks = load_puzzle(path)\n",
    "print(grid)\n",
    "print(num_blocks)"
   ]
  },
  {
   "cell_type": "code",
   "execution_count": 38,
   "metadata": {},
   "outputs": [
    {
     "name": "stdout",
     "output_type": "stream",
     "text": [
      "[[ 5 -2 -2 -2 -2 -2 -2]\n",
      " [-2 -2  0 -2  2 -2  5]\n",
      " [-2 -1 -2  5 -2 -1 -2]\n",
      " [-2  5 -2 -2 -2 -2 -2]\n",
      " [-2 -1  5 -2 -2  3 -2]\n",
      " [-2 -2 -1 -2  4 -2 -2]\n",
      " [-2 -2 -2 -2  5 -2 -2]]\n",
      "{(1, 2): 0, (1, 4): 0, (4, 5): 0, (5, 4): 1}\n"
     ]
    },
    {
     "data": {
      "image/png": "[encoded data removed]",
      "text/plain": [
       "<Figure size 432x288 with 1 Axes>"
      ]
     },
     "metadata": {
      "needs_background": "light"
     },
     "output_type": "display_data"
    },
    {
     "data": {
      "image/png": "[encoded data removed]",
      "text/plain": [
       "<Figure size 432x288 with 1 Axes>"
      ]
     },
     "metadata": {
      "needs_background": "light"
     },
     "output_type": "display_data"
    }
   ],
   "source": [
    "def is_valid_position(grid_map, i, j):\n",
    "    row = grid_map[:, j]\n",
    "    col = grid_map[i, :]\n",
    "    valid = True\n",
    "    if grid_map[i, j] in range(-1, 5):\n",
    "        return False\n",
    "    p1 = num_blocks.get((i+1, j))\n",
    "    p2 = num_blocks.get((i-1, j))\n",
    "    p3 = num_blocks.get((i, j+1))\n",
    "    p4 = num_blocks.get((i, j-1))\n",
    "    if p1 is not None and p1 < 1:\n",
    "        return False\n",
    "    if p2 is not None and p2 < 1:\n",
    "        return False\n",
    "    if p3 is not None and p3 < 1:\n",
    "        return False\n",
    "    if p4 is not None and p4 < 1:\n",
    "        return False\n",
    "    \n",
    "    for r in range(i+1, 7):\n",
    "        if row[r] == 5:\n",
    "            valid = False\n",
    "    for r in range(i-1, -1, -1):\n",
    "        if row[r] == 5:\n",
    "            valid = False\n",
    "    for c in range(j+1, 7):\n",
    "        if col[c] == 5:\n",
    "            valid = False\n",
    "    for c in range(j-1, -1, -1):\n",
    "        if col[c] == 5:\n",
    "            valid = False\n",
    "    return valid\n",
    "    \n",
    "def calc_light_cells(grid_sol):\n",
    "    grids = np.array(grid_sol)\n",
    "    for i in range(7):\n",
    "        for j in range(7):\n",
    "            v = grids[i, j]\n",
    "            if v == 5:\n",
    "                for idx, y in np.ndenumerate(grids[i, :]):\n",
    "                    if y == -2:\n",
    "                        grids[i, idx] = 6\n",
    "                    elif y != 5:\n",
    "                        break\n",
    "                for idx, x in np.ndenumerate(grids[:,j]):\n",
    "                    if x == -2:\n",
    "                        grids[idx, j] = 6\n",
    "                    elif x != 5:\n",
    "                        break\n",
    "    return grids\n",
    "# -2: espaco vazio, -1: parede, 0 a 4: n de lampadas que podem iluminar, 5: lampada, 6: blocos iluminados                    \n",
    "def print_map(data, is_solution):\n",
    "    fig, ax = plt.subplots()\n",
    "    cmap = colors.ListedColormap(['white','black', 'black', 'black', 'black', 'black', 'black'])\n",
    "    if is_solution == True:\n",
    "        cmap = colors.ListedColormap(['white','black', 'black', 'black', 'black', 'black', 'black', 'yellow', 'yellow'])\n",
    "    ax.matshow(data, cmap=cmap)\n",
    "    for (i, j), z in np.ndenumerate(data):\n",
    "        c = 'black'\n",
    "        if z > -1:\n",
    "            c = 'white'\n",
    "        if z == 5:\n",
    "            c = 'black'\n",
    "        if z == 5:\n",
    "            ax.text(j, i, 'O', color = c,ha='center', va='center')\n",
    "        elif z != -2:\n",
    "            ax.text(j, i, z, color = c,ha='center', va='center')\n",
    "        else:\n",
    "            ax.text(j, i, ' ', color = c,ha='center', va='center')\n",
    "\n",
    "\n",
    "\n",
    "    plt.gca().set_xticks([x - 0.5 for x in plt.gca().get_xticks()][1:], minor='true')\n",
    "    plt.gca().set_yticks([y - 0.5 for y in plt.gca().get_yticks()][1:], minor='true')\n",
    "    #ax.invert_yaxis()\n",
    "    plt.grid(which='minor')\n",
    "    plt.show()\n",
    "\n",
    "grids = np.array(grid)\n",
    "# Teste pra colocar lampadas e checar se as funcao is_valid_position funciona\n",
    "for i in range(7):\n",
    "    for j in range(7):\n",
    "        if is_valid_position(grids, i, j) == True:\n",
    "            grids[i, j] = 5\n",
    "            # Atualiza numero de luzes que faltam iluminar os blocos\n",
    "            p1 = num_blocks.get((i+1, j))\n",
    "            p2 = num_blocks.get((i-1, j))\n",
    "            p3 = num_blocks.get((i, j+1))\n",
    "            p4 = num_blocks.get((i, j-1))\n",
    "            if p1 is not None:\n",
    "                num_blocks[(i+1, j)] = p1 - 1\n",
    "            if p2 is not None:\n",
    "                num_blocks[(i-1, j)] = p2 - 1\n",
    "            if p3 is not None:\n",
    "                num_blocks[(i, j+1)] = p3 - 1\n",
    "            if p4 is not None:\n",
    "                num_blocks[(i, j-1)] = p4 - 1\n",
    "print(grids)\n",
    "print(num_blocks)\n",
    "            \n",
    "print_map(grid, False)\n",
    "print_map(calc_light_cells(grids), True)"
   ]
  },
  {
   "cell_type": "code",
   "execution_count": null,
   "metadata": {},
   "outputs": [],
   "source": []
  }
 ],
 "metadata": {
  "kernelspec": {
   "display_name": "Python 3",
   "language": "python",
   "name": "python3"
  },
  "language_info": {
   "codemirror_mode": {
    "name": "ipython",
    "version": 3
   },
   "file_extension": ".py",
   "mimetype": "text/x-python",
   "name": "python",
   "nbconvert_exporter": "python",
   "pygments_lexer": "ipython3",
   "version": "3.8.5"
  }
 },
 "nbformat": 4,
 "nbformat_minor": 4
}
