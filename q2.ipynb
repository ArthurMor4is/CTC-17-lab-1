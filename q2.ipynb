{
 "cells": [
  {
   "cell_type": "code",
   "execution_count": 80,
   "metadata": {},
   "outputs": [],
   "source": [
    "import matplotlib.pyplot as plt\n",
    "import numpy as np\n",
    "from matplotlib import colors\n",
    "import re"
   ]
  },
  {
   "cell_type": "code",
   "execution_count": 115,
   "metadata": {},
   "outputs": [
    {
     "name": "stdout",
     "output_type": "stream",
     "text": [
      "SAVEFILE:41:Simon Tatham's Portable Puzzle Collection\n",
      "\n",
      "VERSION :1:1\n",
      "\n",
      "GAME    :8:Light Up\n",
      "\n",
      "PARAMS  :10:7x7b20s4d0\n",
      "\n",
      "CPARAMS :10:7x7b20s4d0\n",
      "\n",
      "SEED    :15:304364861695276\n",
      "\n",
      "DESC    :17:i0a2cBcBiBc3cBa4i\n",
      "\n",
      "NSTATES :1:1\n",
      "\n",
      "STATEPOS:1:1\n",
      "\n",
      "['i', '0', 'a', '2', 'c', 'B', 'c', 'B', 'i', 'B', 'c', '3', 'c', 'B', 'a', '4', 'i']\n",
      "[[-2 -2 -2 -2 -2 -2 -2]\n",
      " [-2 -2  0 -2  2 -2 -2]\n",
      " [-2 -1 -2 -2 -2 -1 -2]\n",
      " [-2 -2 -2 -2 -2 -2 -2]\n",
      " [-2 -1 -2 -2 -2  3 -2]\n",
      " [-2 -2 -1 -2  4 -2 -2]\n",
      " [-2 -2 -2 -2 -2 -2 -2]]\n"
     ]
    }
   ],
   "source": [
    "#change file name\n",
    "path = \"puzzle.sav\"\n",
    "file = open(path, \"r\")\n",
    "desc = []\n",
    "for line in file:\n",
    "    print(line)\n",
    "    text = line.strip().split(\":\")\n",
    "    if text[0].strip() == \"DESC\":\n",
    "        desc = re.findall('.', text[2].strip())\n",
    "print(desc)\n",
    "grid = np.zeros((7, 7), dtype=int)\n",
    "i = 0\n",
    "run = 0\n",
    "for x in range(7):\n",
    "    for y in range(7):\n",
    "        c = '\\0'\n",
    "        \n",
    "        if run == 0:\n",
    "            c = desc[i]\n",
    "            i = i + 1\n",
    "            if c >= 'a' and c <= 'z':\n",
    "                run = ord(c) - ord('a') + 1\n",
    "        \n",
    "        if run > 0:\n",
    "            c = 'S'\n",
    "            run = run - 1\n",
    "            \n",
    "        if c == '0' or c == '1' or c == '2' or c == '3' or c == '4':\n",
    "            grid[x, y] = ord(c) - ord('0')\n",
    "        elif c == 'B':\n",
    "            grid[x, y] = -1\n",
    "        elif c == 'S':\n",
    "            grid[x, y] = -2\n",
    "            \n",
    "\n",
    "            \n",
    "        \n",
    "        \n",
    "print(grid)"
   ]
  },
  {
   "cell_type": "code",
   "execution_count": 98,
   "metadata": {},
   "outputs": [],
   "source": [
    "grids = np.array([[-2,  5,  1, -2,  5, -2, -2],\n",
    "                 [ 5, -2, -2,  0, -1, -2, -2],\n",
    "                 [-2,  0, -2, -2, -2, -2,  2],\n",
    "                 [-2,  0, -2, -1, -2, -1, -2],\n",
    "                 [ 0, -2, -2, -2, -2,  1, -2],\n",
    "                 [-2, -2,  3,  1, -2, -2, -2],\n",
    "                 [-1, -2, -2, -2, -1, -2, -2]])\n"
   ]
  },
  {
   "cell_type": "code",
   "execution_count": 117,
   "metadata": {},
   "outputs": [
    {
     "data": {
      "image/png": "[encoded data removed]",
      "text/plain": [
       "<Figure size 432x288 with 1 Axes>"
      ]
     },
     "metadata": {
      "needs_background": "light"
     },
     "output_type": "display_data"
    }
   ],
   "source": [
    "data = grid\n",
    "for i in range(7):\n",
    "    for j in range(7):\n",
    "        v = data[i, j]\n",
    "fig, ax = plt.subplots()\n",
    "cmap = colors.ListedColormap(['white','black', 'black', 'black', 'black', 'black', 'black'])\n",
    "cmap_sol = colors.ListedColormap(['white','black', 'black', 'black', 'black', 'black', 'black', 'white', 'yellow'])\n",
    "ax.matshow(data, cmap=cmap)\n",
    "for (i, j), z in np.ndenumerate(data):\n",
    "    c = 'black'\n",
    "    if z > -1:\n",
    "        c = 'white'\n",
    "    if z != -2:\n",
    "        ax.text(j, i, z, color = c,ha='center', va='center')\n",
    "    else:\n",
    "        ax.text(j, i, ' ', color = c,ha='center', va='center')\n",
    "\n",
    "\n",
    "\n",
    "plt.gca().set_xticks([x - 0.5 for x in plt.gca().get_xticks()][1:], minor='true')\n",
    "plt.gca().set_yticks([y - 0.5 for y in plt.gca().get_yticks()][1:], minor='true')\n",
    "#ax.invert_yaxis()\n",
    "plt.grid(which='minor')\n",
    "plt.show()"
   ]
  },
  {
   "cell_type": "code",
   "execution_count": null,
   "metadata": {},
   "outputs": [],
   "source": []
  }
 ],
 "metadata": {
  "kernelspec": {
   "display_name": "Python 3",
   "language": "python",
   "name": "python3"
  },
  "language_info": {
   "codemirror_mode": {
    "name": "ipython",
    "version": 3
   },
   "file_extension": ".py",
   "mimetype": "text/x-python",
   "name": "python",
   "nbconvert_exporter": "python",
   "pygments_lexer": "ipython3",
   "version": "3.8.5"
  }
 },
 "nbformat": 4,
 "nbformat_minor": 4
}
