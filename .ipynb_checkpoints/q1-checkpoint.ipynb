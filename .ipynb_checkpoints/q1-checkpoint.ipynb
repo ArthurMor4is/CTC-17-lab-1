{
 "cells": [
  {
   "cell_type": "code",
   "execution_count": 103,
   "metadata": {},
   "outputs": [
    {
     "name": "stdin",
     "output_type": "stream",
     "text": [
      "Once deleted, variables cannot be recovered. Proceed (y/[n])?  y\n"
     ]
    }
   ],
   "source": [
    "%reset"
   ]
  },
  {
   "cell_type": "markdown",
   "metadata": {},
   "source": [
    "## Problema:\n",
    "\n",
    "Crie um agente capaz de encontrar o menor caminho entre duas cidades, com\n",
    "mapa definido como segue. O agente deve receber como entradas o id da cidade\n",
    "origem, id da cidade destino e nome do arquivo de dados. Usando este agente\n",
    "encontre o menor caminho entre as cidades Alice Springs (id 5) e Yulara da\n",
    "Australia(id 219) do arquivo australia.csv, explicite o caminho (a lista das cidades)\n",
    "da solução e também a distância do início ao fim.\n",
    "\n",
    "O arquivo australia.csv (disponível no site\n",
    "da disciplina) tem os seguintes campos: ID da cidade,nome da cidade, coordenada x, coordenada y, estado e população. A distância em linha reta entre as cidades pode\n",
    "ser calculada a partir das coordenadas cartesianas (x,y) disponibilizadas no arquivo\n",
    "Australia.csv. Uma cidade com ID x se conecta com as cidades x+2 (se existir) e x-1, se x>1 e x é par. Se X é ímpar e x>2, esta cidade x se conecta com as cidades x-2 e\n",
    "x+1(se existir cidade com ID x+1). Caso as cidades existam distância pela estrada é\n",
    "10% maior que a distância em linha reta."
   ]
  },
  {
   "cell_type": "code",
   "execution_count": 104,
   "metadata": {},
   "outputs": [],
   "source": [
    "import pandas as pd\n",
    "import math\n",
    "import networkx as nx"
   ]
  },
  {
   "cell_type": "code",
   "execution_count": 105,
   "metadata": {},
   "outputs": [],
   "source": [
    "def dist_cities_line(city1, city2):\n",
    "    lat_x1 = float(data[data['id'] == city1]['lat'])\n",
    "    lng_x1 = float(data[data['id'] == city1]['lng'])\n",
    "    \n",
    "    lat_x2 = float(data[data['id'] == city2]['lat'])\n",
    "    lng_x2 = float(data[data['id'] == city2]['lng'])\n",
    "    \n",
    "    return math.sqrt((lat_x1 - lat_x2)**2 + (lng_x1 - lng_x2)**2)\n",
    "\n",
    "def create_graph(data):\n",
    "    G = nx.Graph()\n",
    "    data.apply(lambda x: G.add_node(x['id'], city= x['city']), axis=1)\n",
    "    \n",
    "    for city_id in list(G.nodes):\n",
    "        if city_id > 1 and city_id%2 == 0:\n",
    "            G.add_edge(city_id, city_id - 1, distance=1.1*dist_cities_line(city_id, city_id - 1))     \n",
    "            if city_id < len(data['city']) - 1:\n",
    "                G.add_edge(city_id, city_id + 2, distance=1.1*dist_cities_line(city_id, city_id - 1))  \n",
    "        elif city_id%2 != 0 and city_id > 2:\n",
    "            G.add_edge(city_id, city_id - 2, distance=1.1*dist_cities_line(city_id, city_id - 1))\n",
    "            if city_id < len(data['city']):\n",
    "                G.add_edge(city_id, city_id + 1, distance=1.1*dist_cities_line(city_id, city_id - 1))\n",
    "            \n",
    "    return G"
   ]
  },
  {
   "cell_type": "code",
   "execution_count": 106,
   "metadata": {},
   "outputs": [],
   "source": [
    "data = pd.read_csv('australia.csv')\n",
    "G = create_graph(data)"
   ]
  },
  {
   "cell_type": "code",
   "execution_count": 113,
   "metadata": {},
   "outputs": [
    {
     "data": {
      "text/plain": [
       "{'distance': 28.022842017709447}"
      ]
     },
     "execution_count": 113,
     "metadata": {},
     "output_type": "execute_result"
    }
   ],
   "source": [
    "G[1][3]"
   ]
  },
  {
   "cell_type": "code",
   "execution_count": null,
   "metadata": {},
   "outputs": [],
   "source": []
  }
 ],
 "metadata": {
  "kernelspec": {
   "display_name": "Python 3",
   "language": "python",
   "name": "python3"
  },
  "language_info": {
   "codemirror_mode": {
    "name": "ipython",
    "version": 3
   },
   "file_extension": ".py",
   "mimetype": "text/x-python",
   "name": "python",
   "nbconvert_exporter": "python",
   "pygments_lexer": "ipython3",
   "version": "3.7.0"
  }
 },
 "nbformat": 4,
 "nbformat_minor": 4
}
