{
 "cells": [
  {
   "cell_type": "code",
   "execution_count": 1,
   "metadata": {},
   "outputs": [
    {
     "name": "stdout",
     "output_type": "stream",
     "text": [
      "Once deleted, variables cannot be recovered. Proceed (y/[n])? y\n"
     ]
    }
   ],
   "source": [
    "%reset"
   ]
  },
  {
   "cell_type": "markdown",
   "metadata": {},
   "source": [
    "## Problema:\n",
    "\n",
    "Crie um agente capaz de encontrar o menor caminho entre duas cidades, com\n",
    "mapa definido como segue. O agente deve receber como entradas o id da cidade\n",
    "origem, id da cidade destino e nome do arquivo de dados. Usando este agente\n",
    "encontre o menor caminho entre as cidades Alice Springs (id 5) e Yulara da\n",
    "Australia(id 219) do arquivo australia.csv, explicite o caminho (a lista das cidades)\n",
    "da solução e também a distância do início ao fim.\n",
    "\n",
    "O arquivo australia.csv (disponível no site\n",
    "da disciplina) tem os seguintes campos: ID da cidade,nome da cidade, coordenada x, coordenada y, estado e população. A distância em linha reta entre as cidades pode\n",
    "ser calculada a partir das coordenadas cartesianas (x,y) disponibilizadas no arquivo\n",
    "Australia.csv. Uma cidade com ID x se conecta com as cidades x+2 (se existir) e x-1, se x>1 e x é par. Se X é ímpar e x>2, esta cidade x se conecta com as cidades x-2 e\n",
    "x+1(se existir cidade com ID x+1). Caso as cidades existam distância pela estrada é\n",
    "10% maior que a distância em linha reta."
   ]
  },
  {
   "cell_type": "code",
   "execution_count": 9,
   "metadata": {},
   "outputs": [],
   "source": [
    "import numpy as np\n",
    "import pandas as pd\n",
    "import math\n",
    "import networkx as nx\n",
    "import igraph"
   ]
  },
  {
   "cell_type": "code",
   "execution_count": 10,
   "metadata": {},
   "outputs": [],
   "source": [
    "def dist_cities_line(city1, city2):\n",
    "    lat_x1 = float(data[data['id'] == city1]['lat'])\n",
    "    lng_x1 = float(data[data['id'] == city1]['lng'])\n",
    "    \n",
    "    lat_x2 = float(data[data['id'] == city2]['lat'])\n",
    "    lng_x2 = float(data[data['id'] == city2]['lng'])\n",
    "    \n",
    "    return math.sqrt((lat_x1 - lat_x2)**2 + (lng_x1 - lng_x2)**2)\n",
    "\n",
    "def create_graph(data):\n",
    "    road_factor = 1.1\n",
    "    \n",
    "    G = nx.Graph()\n",
    "    data.apply(lambda x: G.add_node(x['id'], city= x['city']), axis=1)\n",
    "    \n",
    "    for city_id in list(G.nodes):\n",
    "        if city_id > 1 and city_id%2 == 0:\n",
    "            # Connects with x-1\n",
    "            G.add_edge(city_id, city_id - 1, distance=road_factor*dist_cities_line(city_id, city_id - 1)) \n",
    "            # If exists, connects with x+2\n",
    "            if city_id < len(data['city']) - 1:\n",
    "                G.add_edge(city_id, city_id + 2, distance=road_factor*dist_cities_line(city_id, city_id + 2))       \n",
    "        elif city_id%2 != 0 and city_id > 2:\n",
    "            # Connects with x-2\n",
    "            G.add_edge(city_id, city_id - 2, distance=road_factor*dist_cities_line(city_id, city_id - 2))\n",
    "            # If exists, connects with x+1\n",
    "            if city_id < len(data['city']):\n",
    "                G.add_edge(city_id, city_id + 1, distance=road_factor*dist_cities_line(city_id, city_id + 1))\n",
    "            \n",
    "    return G\n",
    "\n",
    "def get_road_distance(origin, destiny, G):\n",
    "    try:\n",
    "        distance = G[origin][destiny][\"distance\"]\n",
    "    except:\n",
    "        if origin == destiny:\n",
    "            distance = 0\n",
    "        else:\n",
    "            distance = np.inf\n",
    "    return distance\n",
    "    \n",
    "def find_route(origin, destiny, G):\n",
    "    # List of all cities in the graph\n",
    "    cities = list(G.nodes)\n",
    "    # Calculated cost to go to the city from the origin, aiming the destiny\n",
    "    arrival_cost = np.inf * np.ones(len(G.nodes))\n",
    "    arrival_cost[origin-1] = 0\n",
    "    # List of explored cities, just to avoid percurring the previous list complete\n",
    "    # every time when is required to identify the explored cities \n",
    "    explored = [origin]\n",
    "    # To reconstruct the route\n",
    "    predecessor = np.zeros(len(cities))\n",
    "    \n",
    "  \n",
    "    # Atributes the \"False\" value to \"routed\", and checks for the trivial case\n",
    "    routed = False\n",
    "    if(origin == destiny):\n",
    "        routed = True \n",
    "    \n",
    "    # Repeats while the route to destiny is not complete\n",
    "    while (not routed):\n",
    "        # A new city to explore\n",
    "        explore = {}\n",
    "        # Smallest cost to explore a new city until now\n",
    "        smallest_exp_cost = np.inf\n",
    "        # Calculate costs in the neighborhood of the explored cities\n",
    "        for city in explored:\n",
    "            \n",
    "            # Just to make the algorithmru faster in this case\n",
    "            #rang = range(max(1, city-3), min(len(cities)+1, city+3))\n",
    "            \n",
    "            #for neighbor in rang:\n",
    "            for neighbor in G.neighbors(city):\n",
    "                # Checks only the not explored cities\n",
    "                if arrival_cost[neighbor-1] == np.inf:\n",
    "                    # Calculates the expected cost function using the  straight line distance as heuristic                  \n",
    "                    exp_cost = arrival_cost[city-1] + get_road_distance(city, neighbor, G) + dist_cities_line(neighbor, destiny)\n",
    "                    # In the case the cost_function is smaller than the smallest until now,\n",
    "                    # the first should take the latter's place \n",
    "                    # print(\"small:\", smallest_exp_cost)\n",
    "                    if exp_cost < smallest_exp_cost:                        \n",
    "                        explore = {\"city\": neighbor, \"expCost\": exp_cost, \"predecessor\": city}\n",
    "                        smallest_exp_cost = exp_cost\n",
    "        \n",
    "        # As the frontiers exploration ended, adds the new explored city\n",
    "        explored.append(explore[\"city\"])\n",
    "        predecessor[explore[\"city\"] - 1] = explore[\"predecessor\"]\n",
    "        arrival_cost[explore[\"city\"] - 1] = smallest_exp_cost - dist_cities_line(explore[\"city\"], destiny)       \n",
    "        \n",
    "        \n",
    "        # If the algorithm found the destiny, then the route is done\n",
    "        if(explore[\"city\"] == destiny):\n",
    "            routed = True      \n",
    "\n",
    "    # Reconstructs the route\n",
    "    start = destiny\n",
    "    route = [destiny]\n",
    "    while(start != origin):\n",
    "        start = int(predecessor[start-1] )\n",
    "        route.insert(0, start)\n",
    "    \n",
    "    return route, arrival_cost[destiny-1]\n"
   ]
  },
  {
   "cell_type": "code",
   "execution_count": 11,
   "metadata": {},
   "outputs": [],
   "source": [
    "origin = 5 #Alice Sprnigs\n",
    "destiny = 219 # Yulara\n",
    "data = pd.read_csv('australia.csv')\n",
    "G = create_graph(data)"
   ]
  },
  {
   "cell_type": "code",
   "execution_count": 12,
   "metadata": {},
   "outputs": [],
   "source": [
    "final_answer = find_route(origin, destiny, G)"
   ]
  },
  {
   "cell_type": "code",
   "execution_count": 13,
   "metadata": {},
   "outputs": [],
   "source": [
    "path_check = nx.dijkstra_path(G, source=origin, target=destiny, weight=\"distance\")\n",
    "distancy_check = 0\n",
    "for i in range(0, len(path_check)-1):\n",
    "    distancy_check = distancy_check + G[path_check[i]][path_check[i+1]][\"distance\"]"
   ]
  },
  {
   "cell_type": "code",
   "execution_count": 14,
   "metadata": {},
   "outputs": [
    {
     "data": {
      "text/plain": [
       "True"
      ]
     },
     "execution_count": 14,
     "metadata": {},
     "output_type": "execute_result"
    }
   ],
   "source": [
    "final_answer[0] == path_check"
   ]
  },
  {
   "cell_type": "code",
   "execution_count": 15,
   "metadata": {},
   "outputs": [
    {
     "data": {
      "text/plain": [
       "True"
      ]
     },
     "execution_count": 15,
     "metadata": {},
     "output_type": "execute_result"
    }
   ],
   "source": [
    "final_answer[1] == distancy_check"
   ]
  }
 ],
 "metadata": {
  "kernelspec": {
   "display_name": "Python 3",
   "language": "python",
   "name": "python3"
  },
  "language_info": {
   "codemirror_mode": {
    "name": "ipython",
    "version": 3
   },
   "file_extension": ".py",
   "mimetype": "text/x-python",
   "name": "python",
   "nbconvert_exporter": "python",
   "pygments_lexer": "ipython3",
   "version": "3.8.3"
  }
 },
 "nbformat": 4,
 "nbformat_minor": 4
}
