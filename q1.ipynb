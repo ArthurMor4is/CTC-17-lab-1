{
 "cells": [
  {
   "cell_type": "code",
   "execution_count": 4,
   "metadata": {},
   "outputs": [
    {
     "name": "stdin",
     "output_type": "stream",
     "text": [
      "Once deleted, variables cannot be recovered. Proceed (y/[n])?  Y\n"
     ]
    }
   ],
   "source": [
    "%reset"
   ]
  },
  {
   "cell_type": "markdown",
   "metadata": {},
   "source": [
    "# Projeto buscas"
   ]
  },
  {
   "cell_type": "markdown",
   "metadata": {},
   "source": [
    "## 1. Autores:\n",
    "\n",
    "* Arthur Fernandes de Morais\n",
    "* João Custódio de Faria Filho\n",
    "* Raphael de Vasconcelos Nascimento"
   ]
  },
  {
   "cell_type": "markdown",
   "metadata": {},
   "source": [
    "## 2. Objetivo do Trabalho e descrição da implementação:\n",
    "\n",
    "O presente trabalho visa a resolver os problemas 1 e 2 descritos abaixo. Para a solução de ambos os problemas foi utilizado a linguagem `Python 3.7` e  implementado via `Juyter Notebooks`. Utilizou-se também, para sincronizar as modificações pelos autores, a plataforma do `github` por meio de um repositório contendo tanto os notebooks quanto os arquivos auxiliares à solução dos problemas que são:\n",
    "\n",
    "* Para o problema 1: Além do notebook `q1.ipynb`, o arquivo `australia.csv`\n",
    "* Para o problema 2: Além do notebook `q2.ipynb`, os arquivos `puzzle.sav`, `puzzle2.sav`, `puzzle3.sav` e `puzzle4.sav`"
   ]
  },
  {
   "cell_type": "markdown",
   "metadata": {},
   "source": [
    "## 3. Resultados obtidos"
   ]
  },
  {
   "cell_type": "markdown",
   "metadata": {},
   "source": [
    "#### 2.1 Descrição da solução do seguinte problema:\n",
    "Crie um agente capaz de encontrar o menor caminho entre duas cidades, com\n",
    "mapa definido como segue. O agente deve receber como entradas o id da cidade\n",
    "origem, id da cidade destino e nome do arquivo de dados. Usando este agente\n",
    "encontre o menor caminho entre as cidades Alice Springs (id 5) e Yulara da\n",
    "Australia(id 219) do arquivo australia.csv, explicite o caminho (a lista das cidades)\n",
    "da solução e também a distância do início ao fim."
   ]
  },
  {
   "cell_type": "code",
   "execution_count": 18,
   "metadata": {},
   "outputs": [
    {
     "ename": "DeprecationWarning",
     "evalue": "To avoid name collision with the igraph project, this visualization library has been renamed to 'jgraph'. Please upgrade when convenient.",
     "output_type": "error",
     "traceback": [
      "\u001b[1;31m---------------------------------------------------------------------------\u001b[0m",
      "\u001b[1;31mDeprecationWarning\u001b[0m                        Traceback (most recent call last)",
      "\u001b[1;32m<ipython-input-18-baef1ef62cda>\u001b[0m in \u001b[0;36m<module>\u001b[1;34m\u001b[0m\n\u001b[0;32m      5\u001b[0m \u001b[1;32mimport\u001b[0m \u001b[0mmath\u001b[0m\u001b[1;33m\u001b[0m\u001b[0m\n\u001b[0;32m      6\u001b[0m \u001b[1;32mimport\u001b[0m \u001b[0mnetworkx\u001b[0m \u001b[1;32mas\u001b[0m \u001b[0mnx\u001b[0m\u001b[1;33m\u001b[0m\u001b[0m\n\u001b[1;32m----> 7\u001b[1;33m \u001b[1;32mimport\u001b[0m \u001b[0migraph\u001b[0m\u001b[1;33m\u001b[0m\u001b[0m\n\u001b[0m",
      "\u001b[1;32mc:\\users\\arthu\\appdata\\local\\programs\\python\\python37\\lib\\site-packages\\igraph\\__init__.py\u001b[0m in \u001b[0;36m<module>\u001b[1;34m\u001b[0m\n\u001b[0;32m      6\u001b[0m \u001b[0m__license__\u001b[0m \u001b[1;33m=\u001b[0m \u001b[1;34m\"MIT\"\u001b[0m\u001b[1;33m\u001b[0m\u001b[0m\n\u001b[0;32m      7\u001b[0m \u001b[1;33m\u001b[0m\u001b[0m\n\u001b[1;32m----> 8\u001b[1;33m raise DeprecationWarning(\"To avoid name collision with the igraph project, \"\n\u001b[0m\u001b[0;32m      9\u001b[0m                          \u001b[1;34m\"this visualization library has been renamed to \"\u001b[0m\u001b[1;33m\u001b[0m\u001b[0m\n\u001b[0;32m     10\u001b[0m                          \"'jgraph'. Please upgrade when convenient.\")\n",
      "\u001b[1;31mDeprecationWarning\u001b[0m: To avoid name collision with the igraph project, this visualization library has been renamed to 'jgraph'. Please upgrade when convenient."
     ]
    }
   ],
   "source": [
    "import warnings\n",
    "warnings.filterwarnings(\"ignore\", category=DeprecationWarning) \n",
    "import numpy as np\n",
    "import pandas as pd\n",
    "import math\n",
    "import networkx as nx\n",
    "import igraph"
   ]
  },
  {
   "cell_type": "markdown",
   "metadata": {},
   "source": [
    "**Para o problema em questão desenvolvemos as seguintes funções:**\n",
    "\n",
    "`dist_cities_line(city1, city2)`: Calcula a distância em linha reta entre duas cidades considerando a distância euclidiana\n",
    "\n",
    "`create_graph(data)`: Cria o grafo com as cidades a partir do conjunto de dados disponibilizado\n",
    "\n",
    "`get_road_distance(origin, destiny, G)`: Retorna a distância entre cidades adjacentes do Grafo\n",
    "\n",
    "`find_route(origin, destiny, G)`: Retorna a lista de cidades exploradas (em ordem) e a distância total percorrida pelo agente"
   ]
  },
  {
   "cell_type": "code",
   "execution_count": 8,
   "metadata": {},
   "outputs": [],
   "source": [
    "def dist_cities_line(city1, city2):\n",
    "    lat_x1 = float(data[data['id'] == city1]['lat'])\n",
    "    lng_x1 = float(data[data['id'] == city1]['lng'])\n",
    "    \n",
    "    lat_x2 = float(data[data['id'] == city2]['lat'])\n",
    "    lng_x2 = float(data[data['id'] == city2]['lng'])\n",
    "    \n",
    "    return math.sqrt((lat_x1 - lat_x2)**2 + (lng_x1 - lng_x2)**2)\n",
    "\n",
    "\n",
    "def create_graph(data):\n",
    "    road_factor = 1.1\n",
    "    \n",
    "    G = nx.Graph()\n",
    "    data.apply(lambda x: G.add_node(x['id'], city= x['city']), axis=1)\n",
    "    \n",
    "    for city_id in list(G.nodes):\n",
    "        if city_id > 1 and city_id%2 == 0:\n",
    "            # Connects with x-1\n",
    "            G.add_edge(city_id, city_id - 1, distance=road_factor*dist_cities_line(city_id, city_id - 1)) \n",
    "            # If exists, connects with x+2\n",
    "            if city_id < len(data['city']) - 1:\n",
    "                G.add_edge(city_id, city_id + 2, distance=road_factor*dist_cities_line(city_id, city_id + 2))       \n",
    "        elif city_id%2 != 0 and city_id > 2:\n",
    "            # Connects with x-2\n",
    "            G.add_edge(city_id, city_id - 2, distance=road_factor*dist_cities_line(city_id, city_id - 2))\n",
    "            # If exists, connects with x+1\n",
    "            if city_id < len(data['city']):\n",
    "                G.add_edge(city_id, city_id + 1, distance=road_factor*dist_cities_line(city_id, city_id + 1))\n",
    "            \n",
    "    return G\n",
    "\n",
    "def get_road_distance(origin, destiny, G):\n",
    "    try:\n",
    "        distance = G[origin][destiny][\"distance\"]\n",
    "    except:\n",
    "        if origin == destiny:\n",
    "            distance = 0\n",
    "        else:\n",
    "            distance = np.inf\n",
    "    return distance\n",
    "    \n",
    "def find_route(origin, destiny, G):\n",
    "    # List of all cities in the graph\n",
    "    cities = list(G.nodes)\n",
    "    # Calculated cost to go to the city from the origin, aiming the destiny\n",
    "    arrival_cost = np.inf * np.ones(len(G.nodes))\n",
    "    arrival_cost[origin-1] = 0\n",
    "    # List of explored cities, just to avoid percurring the previous list complete\n",
    "    # every time when is required to identify the explored cities \n",
    "    explored = [origin]\n",
    "    # To reconstruct the route\n",
    "    predecessor = np.zeros(len(cities))\n",
    "    \n",
    "  \n",
    "    # Atributes the \"False\" value to \"routed\", and checks for the trivial case\n",
    "    routed = False\n",
    "    if(origin == destiny):\n",
    "        routed = True \n",
    "    \n",
    "    # Repeats while the route to destiny is not complete\n",
    "    while (not routed):\n",
    "        # A new city to explore\n",
    "        explore = {}\n",
    "        # Smallest cost to explore a new city until now\n",
    "        smallest_exp_cost = np.inf\n",
    "        # Calculate costs in the neighborhood of the explored cities\n",
    "        for city in explored:\n",
    "            \n",
    "            # Just to make the algorithmru faster in this case\n",
    "            #rang = range(max(1, city-3), min(len(cities)+1, city+3))\n",
    "            \n",
    "            #for neighbor in rang:\n",
    "            for neighbor in G.neighbors(city):\n",
    "                # Checks only the not explored cities\n",
    "                if arrival_cost[neighbor-1] == np.inf:\n",
    "                    # Calculates the expected cost function using the  straight line distance as heuristic                  \n",
    "                    exp_cost = arrival_cost[city-1] + get_road_distance(city, neighbor, G) + dist_cities_line(neighbor, destiny)\n",
    "                    # In the case the cost_function is smaller than the smallest until now,\n",
    "                    # the first should take the latter's place \n",
    "                    # print(\"small:\", smallest_exp_cost)\n",
    "                    if exp_cost < smallest_exp_cost:                        \n",
    "                        explore = {\"city\": neighbor, \"expCost\": exp_cost, \"predecessor\": city}\n",
    "                        smallest_exp_cost = exp_cost\n",
    "        \n",
    "        # As the frontiers exploration ended, adds the new explored city\n",
    "        explored.append(explore[\"city\"])\n",
    "        predecessor[explore[\"city\"] - 1] = explore[\"predecessor\"]\n",
    "        arrival_cost[explore[\"city\"] - 1] = smallest_exp_cost - dist_cities_line(explore[\"city\"], destiny)       \n",
    "        \n",
    "        \n",
    "        # If the algorithm found the destiny, then the route is done\n",
    "        if(explore[\"city\"] == destiny):\n",
    "            routed = True      \n",
    "\n",
    "    # Reconstructs the route\n",
    "    start = destiny\n",
    "    route = [destiny]\n",
    "    while(start != origin):\n",
    "        start = int(predecessor[start-1] )\n",
    "        route.insert(0, start)\n",
    "    \n",
    "    return route, arrival_cost[destiny-1]\n"
   ]
  },
  {
   "cell_type": "markdown",
   "metadata": {},
   "source": [
    "----\n",
    "**Inicializando o grafo com as cidades**: Vale ressaltar que na nossa implementação cada nó do grafo é composto por um elemento que possui o id da cidade, a partir do conjunto de dados disponibilizado, e um atribudo com o nome da cidade em questão. Além disso, percebe-se que a busca foi inicializada com uma origem e um destino definidos pelo problema."
   ]
  },
  {
   "cell_type": "code",
   "execution_count": 9,
   "metadata": {},
   "outputs": [],
   "source": [
    "origin = 5 #Alice Sprnigs\n",
    "destiny = 219 # Yulara\n",
    "data = pd.read_csv('australia.csv')\n",
    "G = create_graph(data)"
   ]
  },
  {
   "cell_type": "markdown",
   "metadata": {},
   "source": [
    "----\n",
    "**Cidades exploradas na busca: Em ordem de exploração**: A partir da lista dos nós do grafo explorados na busca, é possível checar quais cidades foram exploradas, com o auxílio do arquivo `australia.csv`"
   ]
  },
  {
   "cell_type": "code",
   "execution_count": 5,
   "metadata": {},
   "outputs": [
    {
     "name": "stdout",
     "output_type": "stream",
     "text": [
      "Alice Springs\n",
      "Andamooka\n",
      "Armidale\n",
      "Ayr\n",
      "Ballarat\n",
      "Bairnsdale East\n",
      "Ballina\n",
      "Batemans Bay\n",
      "Bathurst\n",
      "Bendigo\n",
      "Bicheno\n",
      "Birdsville\n",
      "Bordertown\n",
      "Bourke\n",
      "Brisbane\n",
      "Broome\n",
      "Bundaberg\n",
      "Burnie\n",
      "Byron Bay\n",
      "Cairns\n",
      "Caboolture\n",
      "Caloundra\n",
      "Canberra\n",
      "Ceduna\n",
      "Charleville\n",
      "Clare\n",
      "Cobram\n",
      "Colac\n",
      "Cowell\n",
      "Cranbourne\n",
      "Dalby\n",
      "Deniliquin\n",
      "Dubbo\n",
      "East Maitland\n",
      "Eidsvold\n",
      "Esperance\n",
      "Forbes\n",
      "Gawler\n",
      "Georgetown\n",
      "Gingin\n",
      "Geraldton\n",
      "Gladstone\n",
      "Goondiwindi\n",
      "Griffith\n",
      "Gympie South\n",
      "Hamilton\n",
      "Hobart\n",
      "Hughenden\n",
      "Inverell\n",
      "Kalbarri\n",
      "Karratha\n",
      "Katanning\n",
      "Katoomba\n",
      "Kiama\n",
      "Kimba\n",
      "Kingoonya\n",
      "Kingston South East\n",
      "Kwinana\n",
      "Laverton\n",
      "Leonora\n",
      "Longreach\n",
      "Manjimup\n",
      "Maryborough\n",
      "Meekatharra\n",
      "Melton\n",
      "Melbourne\n",
      "Meningie\n",
      "Mildura\n",
      "Morawa\n",
      "Mount Barker\n",
      "Mount Isa\n",
      "Mudgee\n",
      "Muswellbrook\n",
      "Narrabri West\n",
      "Newcastle\n",
      "Norseman\n",
      "North Mackay\n",
      "North Lismore\n",
      "North Scottsdale\n",
      "Nowra\n",
      "Oatlands\n",
      "Orange\n",
      "Pambula\n",
      "Parkes\n",
      "Perth\n",
      "Penola\n",
      "Peterborough\n",
      "Port Augusta West\n",
      "Port Douglas\n",
      "Port Lincoln\n",
      "Port Pirie\n",
      "Portland\n",
      "Queanbeyan\n",
      "Quilpie\n",
      "Richmond\n",
      "Rockhampton\n",
      "Roma\n",
      "Scone\n",
      "Shepparton\n",
      "Seymour\n",
      "Singleton\n",
      "South Grafton\n",
      "South Melbourne\n",
      "Stawell\n",
      "Sunbury\n",
      "Sydney\n",
      "Thargomindah\n",
      "Three Springs\n",
      "Toowoomba\n",
      "Traralgon\n",
      "Tumut\n",
      "Ulladulla\n",
      "Wagga Wagga\n",
      "Wallaroo\n",
      "Wangaratta\n",
      "Warwick\n",
      "West Tamworth\n",
      "Wilcannia\n",
      "Winton\n",
      "Windorah\n",
      "Wollongong\n",
      "Woomera\n",
      "Yeppoon\n",
      "Yulara\n"
     ]
    }
   ],
   "source": [
    "final_answer = find_route(origin, destiny, G)\n",
    "cities = list(data['city'])\n",
    "for c in list(final_answer[0]):\n",
    "    print(str(cities[c-1]))"
   ]
  },
  {
   "cell_type": "markdown",
   "metadata": {},
   "source": [
    "-----\n",
    "**Checando se a ordem de exploração do algorítmo desenvolvido confere com o método dijkstra_path da biblioteca networkx**: Utilizamos uma implementação do algorítmo de Dijkstra da biblioteca networkx para checarmos se nosso algorítmo foi implementado de maneira correta. Como é possível verificar, tanto a lista de cidades em ordem de busca `final_answer[0]` quanto o caminho total percorrido `final_answer[1]` estão coerentes com o esperado pelo algorítmo."
   ]
  },
  {
   "cell_type": "code",
   "execution_count": 6,
   "metadata": {},
   "outputs": [],
   "source": [
    "path_check = nx.dijkstra_path(G, source=origin, target=destiny, weight=\"distance\")\n",
    "distancy_check = 0\n",
    "for i in range(0, len(path_check)-1):\n",
    "    distancy_check = distancy_check + G[path_check[i]][path_check[i+1]][\"distance\"]"
   ]
  },
  {
   "cell_type": "code",
   "execution_count": 7,
   "metadata": {},
   "outputs": [
    {
     "data": {
      "text/plain": [
       "True"
      ]
     },
     "execution_count": 7,
     "metadata": {},
     "output_type": "execute_result"
    }
   ],
   "source": [
    "final_answer[0] == path_check"
   ]
  },
  {
   "cell_type": "code",
   "execution_count": 8,
   "metadata": {},
   "outputs": [
    {
     "data": {
      "text/plain": [
       "True"
      ]
     },
     "execution_count": 8,
     "metadata": {},
     "output_type": "execute_result"
    }
   ],
   "source": [
    "final_answer[1] == distancy_check"
   ]
  }
 ],
 "metadata": {
  "kernelspec": {
   "display_name": "Python 3",
   "language": "python",
   "name": "python3"
  },
  "language_info": {
   "codemirror_mode": {
    "name": "ipython",
    "version": 3
   },
   "file_extension": ".py",
   "mimetype": "text/x-python",
   "name": "python",
   "nbconvert_exporter": "python",
   "pygments_lexer": "ipython3",
   "version": "3.7.0"
  }
 },
 "nbformat": 4,
 "nbformat_minor": 4
}
